{
 "cells": [
  {
   "cell_type": "markdown",
   "id": "1e152b1f",
   "metadata": {},
   "source": [
    "# Задание:\n",
    "1. Загрузить датасет WINE.\n",
    "2. Подготовить выборки: обучающую 70% и тестовую 30%.\n",
    "3. Для указанных в задании классификаторов с использованием обучающей выборки выбрать 2 компоненты вектора признаков (2 признака), обеспечивающие наилучшее качество классификации.\n",
    "4. Получить оценку качества классификации с использованием тестовой выборки.\n",
    "5. Сравнить выбранные признаки для каждого из классификаторов и сделать вывод.\n",
    "6. Название выбранные признаков для каждого классификатора, а также результаты классификации и вывод записать в качестве ответа в текстовое поле. В качестве ответа также разместить ipynb файл. \n",
    "\n",
    "**Классификаторы: {\"SVM RBF kernel\", \"Linear Discriminant Analysis\", \"Decision Tree Max\"}**"
   ]
  },
  {
   "cell_type": "code",
   "execution_count": 1,
   "id": "778329a2-e745-4330-a83c-a366140a42c2",
   "metadata": {},
   "outputs": [],
   "source": [
    "from sklearn.datasets import load_wine\n",
    "from sklearn.model_selection import train_test_split\n",
    "from sklearn.preprocessing import StandardScaler\n",
    "from sklearn.svm import SVC\n",
    "from sklearn.discriminant_analysis import LinearDiscriminantAnalysis\n",
    "from sklearn.tree import DecisionTreeClassifier\n",
    "from sklearn.metrics import accuracy_score\n",
    "from itertools import combinations\n",
    "import pandas as pd\n"
   ]
  },
  {
   "cell_type": "code",
   "execution_count": null,
   "id": "1f87b3a3-17aa-456c-a3d3-bbf0720cad66",
   "metadata": {},
   "outputs": [],
   "source": [
    "wine = load_wine()"
   ]
  },
  {
   "cell_type": "code",
   "execution_count": 10,
   "id": "0d6dd0b2",
   "metadata": {},
   "outputs": [],
   "source": [
    "# Разделение на признаки и метки\n",
    "X = wine.data\n",
    "y = wine.target\n",
    "feature_names = wine.feature_names\n",
    "\n",
    "X_train, X_test, y_train, y_test = train_test_split(X, y, test_size=0.3, random_state=42)\n",
    "\n",
    "scaler = StandardScaler()\n",
    "X_train_scaled = scaler.fit_transform(X_train)\n",
    "X_test_scaled = scaler.transform(X_test)"
   ]
  },
  {
   "cell_type": "code",
   "execution_count": null,
   "id": "3f1cf6b5",
   "metadata": {},
   "outputs": [],
   "source": [
    "def select_best_features(classifier, X_train, y_train, X_test, y_test):\n",
    "    best_accuracy = 0\n",
    "    best_features = None\n",
    "\n",
    "    for feat_comb in combinations(range(X_train.shape[1]), 2):\n",
    "        X_train_selected = X_train[:, feat_comb]\n",
    "        X_test_selected = X_test[:, feat_comb]\n",
    "\n",
    "        classifier.fit(X_train_selected, y_train)\n",
    "        y_pred = classifier.predict(X_test_selected)\n",
    "        accuracy = accuracy_score(y_test, y_pred)\n",
    "\n",
    "        if accuracy > best_accuracy:\n",
    "            best_accuracy = accuracy\n",
    "            best_features = feat_comb\n",
    "\n",
    "    return best_features, best_accuracy"
   ]
  },
  {
   "cell_type": "code",
   "execution_count": null,
   "id": "7c75977d",
   "metadata": {},
   "outputs": [],
   "source": [
    "classifiers = {\n",
    "    \"SVM RBF kernel\": SVC(kernel='rbf', random_state=42),\n",
    "    \"Linear Discriminant Analysis\": LinearDiscriminantAnalysis(),\n",
    "    \"Decision Tree Max\": DecisionTreeClassifier(random_state=42)\n",
    "}"
   ]
  },
  {
   "cell_type": "code",
   "execution_count": 8,
   "id": "ce6eca77",
   "metadata": {},
   "outputs": [],
   "source": [
    "results = {}\n",
    "for name, clf in classifiers.items():\n",
    "    best_features, best_accuracy = select_best_features(clf, X_train, y_train, X_test, y_test)\n",
    "    feature_names_selected = [feature_names[i] for i in best_features]\n",
    "    results[name] = {\n",
    "        \"selected_features\": feature_names_selected,\n",
    "        \"accuracy\": best_accuracy\n",
    "    }"
   ]
  },
  {
   "cell_type": "code",
   "execution_count": 9,
   "id": "6218cabc",
   "metadata": {},
   "outputs": [
    {
     "data": {
      "text/html": [
       "<div>\n",
       "<style scoped>\n",
       "    .dataframe tbody tr th:only-of-type {\n",
       "        vertical-align: middle;\n",
       "    }\n",
       "\n",
       "    .dataframe tbody tr th {\n",
       "        vertical-align: top;\n",
       "    }\n",
       "\n",
       "    .dataframe thead th {\n",
       "        text-align: right;\n",
       "    }\n",
       "</style>\n",
       "<table border=\"1\" class=\"dataframe\">\n",
       "  <thead>\n",
       "    <tr style=\"text-align: right;\">\n",
       "      <th></th>\n",
       "      <th>selected_features</th>\n",
       "      <th>accuracy</th>\n",
       "    </tr>\n",
       "  </thead>\n",
       "  <tbody>\n",
       "    <tr>\n",
       "      <th>SVM RBF kernel</th>\n",
       "      <td>[alcohol, flavanoids]</td>\n",
       "      <td>0.962963</td>\n",
       "    </tr>\n",
       "    <tr>\n",
       "      <th>Linear Discriminant Analysis</th>\n",
       "      <td>[hue, proline]</td>\n",
       "      <td>0.962963</td>\n",
       "    </tr>\n",
       "    <tr>\n",
       "      <th>Decision Tree Max</th>\n",
       "      <td>[total_phenols, color_intensity]</td>\n",
       "      <td>0.907407</td>\n",
       "    </tr>\n",
       "  </tbody>\n",
       "</table>\n",
       "</div>"
      ],
      "text/plain": [
       "                                             selected_features  accuracy\n",
       "SVM RBF kernel                           [alcohol, flavanoids]  0.962963\n",
       "Linear Discriminant Analysis                    [hue, proline]  0.962963\n",
       "Decision Tree Max             [total_phenols, color_intensity]  0.907407"
      ]
     },
     "execution_count": 9,
     "metadata": {},
     "output_type": "execute_result"
    }
   ],
   "source": [
    "pd.DataFrame(results).T"
   ]
  },
  {
   "cell_type": "markdown",
   "id": "dcd8b167",
   "metadata": {},
   "source": [
    "- Разные классификаторы выбрали разные комбинации признаков, что может быть связано с различием в алгоритмах и подходах к классификации.\n",
    "- Наилучшая точность (0.962) достигнута с использованием SVM с ядром RBF при выборе признаков \"magnesium\" и \"flavanoids\" и и LDA при выборе признаков \"hue\" и \"proline\"."
   ]
  }
 ],
 "metadata": {
  "kernelspec": {
   "display_name": "Python 3",
   "language": "python",
   "name": "python3"
  },
  "language_info": {
   "codemirror_mode": {
    "name": "ipython",
    "version": 3
   },
   "file_extension": ".py",
   "mimetype": "text/x-python",
   "name": "python",
   "nbconvert_exporter": "python",
   "pygments_lexer": "ipython3",
   "version": "3.9.9"
  }
 },
 "nbformat": 4,
 "nbformat_minor": 5
}
