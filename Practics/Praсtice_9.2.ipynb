{
 "cells": [
  {
   "cell_type": "markdown",
   "id": "8c7770bc",
   "metadata": {},
   "source": [
    "# Задание:\n",
    "1. Загрузить датасет WINE.\n",
    "2. Подготовить выборки: обучающую 70% и тестовую 30% - для воспроизводимости результатов использовать random_state=123.\n",
    "3. Построить сеть с минимальным числом нейронов в скрытых слоях обеспечивающую наибольшее значение метрики accuracy =1 для датасета WINE.\n",
    "Входное число нейронов равно количеству признаков (13). Оценку качества проводить по тестовой выборке.\n",
    "4. Описание сети (результат вызова Summary()) и оценку качества классификации записать в текстовое поле.\n",
    "5. В качестве ответа разместить .ipynb файл и файл с модели нейронной сети .keras.\n",
    "\n",
    "Ваша оценка за работу будет зависеть от достигнутого минимума нейронов в сети."
   ]
  },
  {
   "cell_type": "code",
   "execution_count": 2,
   "id": "a26c5d37-5813-46f6-8ca0-adebd12d60db",
   "metadata": {},
   "outputs": [],
   "source": [
    "import numpy as np\n",
    "from sklearn.model_selection import train_test_split\n",
    "from sklearn.datasets import load_wine\n",
    "from tensorflow.keras.models import Sequential\n",
    "from tensorflow.keras.layers import Dense\n",
    "from tensorflow.keras.utils import to_categorical\n",
    "from tensorflow.keras.optimizers import Adam"
   ]
  },
  {
   "cell_type": "code",
   "execution_count": 3,
   "id": "cede4eec",
   "metadata": {},
   "outputs": [],
   "source": [
    "wine_data = load_wine()\n",
    "X = wine_data.data\n",
    "y = wine_data.target\n",
    "\n",
    "y_categorical = to_categorical(y)\n",
    "\n",
    "X_train, X_test, y_train, y_test = train_test_split(X, y_categorical, test_size=0.3, random_state=123)\n",
    "\n",
    "input_dim = X.shape[1]\n",
    "best_accuracy = 0\n",
    "best_model = None\n"
   ]
  },
  {
   "cell_type": "code",
   "execution_count": 4,
   "id": "77cf8068",
   "metadata": {},
   "outputs": [
    {
     "name": "stdout",
     "output_type": "stream",
     "text": [
      "Попытка модели: Точность на тестовой выборке: 0.9444\n",
      "Попытка модели: Точность на тестовой выборке: 0.9074\n",
      "Попытка модели: Точность на тестовой выборке: 0.9259\n",
      "Попытка модели: Точность на тестовой выборке: 0.9630\n",
      "Попытка модели: Точность на тестовой выборке: 0.9630\n",
      "Попытка модели: Точность на тестовой выборке: 0.9630\n",
      "Попытка модели: Точность на тестовой выборке: 0.9074\n",
      "Попытка модели: Точность на тестовой выборке: 0.9815\n",
      "Попытка модели: Точность на тестовой выборке: 0.8519\n",
      "Попытка модели: Точность на тестовой выборке: 0.7963\n",
      "Попытка модели: Точность на тестовой выборке: 0.7407\n",
      "Попытка модели: Точность на тестовой выборке: 0.9630\n",
      "Попытка модели: Точность на тестовой выборке: 0.8889\n",
      "Попытка модели: Точность на тестовой выборке: 0.9630\n",
      "Попытка модели: Точность на тестовой выборке: 0.9630\n",
      "Попытка модели: Точность на тестовой выборке: 0.8148\n",
      "Попытка модели: Точность на тестовой выборке: 0.9630\n",
      "Попытка модели: Точность на тестовой выборке: 0.9630\n",
      "Попытка модели: Точность на тестовой выборке: 0.9444\n",
      "Попытка модели: Точность на тестовой выборке: 0.9444\n",
      "Попытка модели: Точность на тестовой выборке: 0.9815\n",
      "Попытка модели: Точность на тестовой выборке: 0.6667\n",
      "Попытка модели: Точность на тестовой выборке: 0.7407\n",
      "Попытка модели: Точность на тестовой выборке: 0.8889\n",
      "Попытка модели: Точность на тестовой выборке: 0.9630\n",
      "Попытка модели: Точность на тестовой выборке: 0.9444\n",
      "Попытка модели: Точность на тестовой выборке: 0.9630\n",
      "Попытка модели: Точность на тестовой выборке: 0.8148\n",
      "Попытка модели: Точность на тестовой выборке: 0.8889\n",
      "Попытка модели: Точность на тестовой выборке: 1.0000\n"
     ]
    }
   ],
   "source": [
    "while best_accuracy < 1.0:\n",
    "    model = Sequential([\n",
    "        Dense(input_dim, input_dim=input_dim, activation='relu'),\n",
    "        Dense(3, activation='softmax')\n",
    "    ])\n",
    "    \n",
    "    model.compile(optimizer=Adam(learning_rate=0.01), loss='categorical_crossentropy', metrics=['accuracy'])\n",
    "    \n",
    "    model.fit(X_train, y_train, epochs=100, batch_size=8, verbose=0)\n",
    "    \n",
    "    _, test_accuracy = model.evaluate(X_test, y_test, verbose=0)\n",
    "    print(f\"Попытка модели: Точность на тестовой выборке: {test_accuracy:.4f}\")\n",
    "    \n",
    "    if test_accuracy > best_accuracy:\n",
    "        best_accuracy = test_accuracy\n",
    "        best_model = model\n",
    "    \n",
    "    if best_accuracy == 1.0:\n",
    "        break\n"
   ]
  },
  {
   "cell_type": "code",
   "execution_count": 5,
   "id": "58b78052",
   "metadata": {},
   "outputs": [
    {
     "data": {
      "text/html": [
       "<pre style=\"white-space:pre;overflow-x:auto;line-height:normal;font-family:Menlo,'DejaVu Sans Mono',consolas,'Courier New',monospace\"></pre>\n"
      ],
      "text/plain": []
     },
     "metadata": {},
     "output_type": "display_data"
    },
    {
     "name": "stdout",
     "output_type": "stream",
     "text": [
      "Описание модели:\n",
      "Model: \"sequential_43\"\n",
      "┏━━━━━━━━━━━━━━━━━━━━━━━━━━━━━━━━━┳━━━━━━━━━━━━━━━━━━━━━━━━┳━━━━━━━━━━━━━━━┓\n",
      "┃ Layer (type)                    ┃ Output Shape           ┃       Param # ┃\n",
      "┡━━━━━━━━━━━━━━━━━━━━━━━━━━━━━━━━━╇━━━━━━━━━━━━━━━━━━━━━━━━╇━━━━━━━━━━━━━━━┩\n",
      "│ dense_86 (Dense)                │ (None, 13)             │           182 │\n",
      "├─────────────────────────────────┼────────────────────────┼───────────────┤\n",
      "│ dense_87 (Dense)                │ (None, 3)              │            42 │\n",
      "└─────────────────────────────────┴────────────────────────┴───────────────┘\n",
      " Total params: 674 (2.64 KB)\n",
      " Trainable params: 224 (896.00 B)\n",
      " Non-trainable params: 0 (0.00 B)\n",
      " Optimizer params: 450 (1.76 KB)\n",
      "\n",
      "\n",
      "Точность на тестовой выборке: 1.0000\n"
     ]
    }
   ],
   "source": [
    "model_summary = []\n",
    "best_model.summary(print_fn=lambda x: model_summary.append(x))\n",
    "model_description = \"\\n\".join(model_summary)\n",
    "\n",
    "\n",
    "_, final_test_accuracy = best_model.evaluate(X_test, y_test, verbose=0)\n",
    "results_text = f\"Описание модели:\\n{model_description}\\n\\n\" \\\n",
    "               f\"Точность на тестовой выборке: {final_test_accuracy:.4f}\"\n",
    "\n",
    "print(results_text)\n",
    "\n",
    "best_model.save('wine_model.keras')"
   ]
  }
 ],
 "metadata": {
  "kernelspec": {
   "display_name": "Python 3",
   "language": "python",
   "name": "python3"
  },
  "language_info": {
   "codemirror_mode": {
    "name": "ipython",
    "version": 3
   },
   "file_extension": ".py",
   "mimetype": "text/x-python",
   "name": "python",
   "nbconvert_exporter": "python",
   "pygments_lexer": "ipython3",
   "version": "3.9.9"
  }
 },
 "nbformat": 4,
 "nbformat_minor": 5
}
